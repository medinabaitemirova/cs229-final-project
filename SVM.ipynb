{
 "cells": [
  {
   "cell_type": "code",
   "execution_count": 3,
   "id": "a19d2094",
   "metadata": {},
   "outputs": [],
   "source": [
    "import os\n",
    "\n",
    "import pandas as pd\n",
    "import numpy as np\n",
    "from numpy import loadtxt\n",
    "\n",
    "from sklearn.model_selection import train_test_split\n",
    "from sklearn.metrics import accuracy_score\n",
    "from sklearn.preprocessing import StandardScaler\n",
    "from sklearn.decomposition import PCA\n",
    "from sklearn.svm import SVC\n",
    "\n",
    "import matplotlib.pyplot as plt"
   ]
  },
  {
   "cell_type": "code",
   "execution_count": 4,
   "id": "9a8cb230",
   "metadata": {},
   "outputs": [],
   "source": [
    "HOME_FOLDER = 'images/'\n",
    "noOfFiles = 0\n",
    "noOfDir = 0"
   ]
  },
  {
   "cell_type": "code",
   "execution_count": 5,
   "id": "1621febd",
   "metadata": {},
   "outputs": [
    {
     "name": "stdout",
     "output_type": "stream",
     "text": [
      "Looking in :  images/\n",
      "Looking in :  images/0000000001\n",
      "Looking in :  images/1000000000\n",
      "Looking in :  images/0000000000\n",
      "Looking in :  images/0000010000\n",
      "Looking in :  images/0100000000\n",
      "Looking in :  images/0000001000\n",
      "Looking in :  images/0000100000\n",
      "Looking in :  images/0001000000\n",
      "Looking in :  images/0010000000\n",
      "Looking in :  images/0000000100\n",
      "Looking in :  images/0000000010\n"
     ]
    }
   ],
   "source": [
    "for base, dirs, files in os.walk(HOME_FOLDER):\n",
    "    print('Looking in : ',base)\n",
    "    for directories in dirs:\n",
    "        noOfDir += 1\n",
    "    for Files in files:\n",
    "        noOfFiles += 1"
   ]
  },
  {
   "cell_type": "code",
   "execution_count": 6,
   "id": "9f6646af",
   "metadata": {},
   "outputs": [
    {
     "name": "stdout",
     "output_type": "stream",
     "text": [
      "Number of files 10532\n",
      "Number of Directories 11\n",
      "Total: 10543\n"
     ]
    }
   ],
   "source": [
    "print('Number of files',noOfFiles)\n",
    "print('Number of Directories',noOfDir)\n",
    "print('Total:',(noOfDir + noOfFiles))"
   ]
  },
  {
   "cell_type": "code",
   "execution_count": 7,
   "id": "8da062cb",
   "metadata": {},
   "outputs": [],
   "source": [
    "image_data = pd.read_csv('data.csv') "
   ]
  },
  {
   "cell_type": "code",
   "execution_count": 8,
   "id": "fb18f136",
   "metadata": {},
   "outputs": [
    {
     "name": "stdout",
     "output_type": "stream",
     "text": [
      "index\n",
      "filepath\n",
      "label\n",
      "type\n"
     ]
    }
   ],
   "source": [
    "for col in image_data.columns:\n",
    "    print(col)"
   ]
  },
  {
   "cell_type": "code",
   "execution_count": 9,
   "id": "6df6c43b",
   "metadata": {},
   "outputs": [
    {
     "data": {
      "text/plain": [
       "(10520, 4)"
      ]
     },
     "execution_count": 9,
     "metadata": {},
     "output_type": "execute_result"
    }
   ],
   "source": [
    "image_data.shape"
   ]
  },
  {
   "cell_type": "code",
   "execution_count": 10,
   "id": "a29aba11",
   "metadata": {},
   "outputs": [
    {
     "data": {
      "text/html": [
       "<div>\n",
       "<style scoped>\n",
       "    .dataframe tbody tr th:only-of-type {\n",
       "        vertical-align: middle;\n",
       "    }\n",
       "\n",
       "    .dataframe tbody tr th {\n",
       "        vertical-align: top;\n",
       "    }\n",
       "\n",
       "    .dataframe thead th {\n",
       "        text-align: right;\n",
       "    }\n",
       "</style>\n",
       "<table border=\"1\" class=\"dataframe\">\n",
       "  <thead>\n",
       "    <tr style=\"text-align: right;\">\n",
       "      <th></th>\n",
       "      <th>index</th>\n",
       "      <th>filepath</th>\n",
       "      <th>label</th>\n",
       "      <th>type</th>\n",
       "    </tr>\n",
       "  </thead>\n",
       "  <tbody>\n",
       "    <tr>\n",
       "      <th>0</th>\n",
       "      <td>785</td>\n",
       "      <td>images/0010000000/image-2021-05-06_02-51-02_16...</td>\n",
       "      <td>10000000</td>\n",
       "      <td>train</td>\n",
       "    </tr>\n",
       "    <tr>\n",
       "      <th>1</th>\n",
       "      <td>726</td>\n",
       "      <td>images/0000000100/image-2021-05-06_11-58-58_16...</td>\n",
       "      <td>100</td>\n",
       "      <td>train</td>\n",
       "    </tr>\n",
       "    <tr>\n",
       "      <th>2</th>\n",
       "      <td>261</td>\n",
       "      <td>images/0000000001/image-2021-05-06_03-14-41_16...</td>\n",
       "      <td>1</td>\n",
       "      <td>train</td>\n",
       "    </tr>\n",
       "    <tr>\n",
       "      <th>3</th>\n",
       "      <td>620</td>\n",
       "      <td>images/0000000001/image-2021-05-06_11-53-37_16...</td>\n",
       "      <td>1</td>\n",
       "      <td>train</td>\n",
       "    </tr>\n",
       "    <tr>\n",
       "      <th>4</th>\n",
       "      <td>737</td>\n",
       "      <td>images/0000000000/image-2021-05-06_12-03-06_16...</td>\n",
       "      <td>0</td>\n",
       "      <td>train</td>\n",
       "    </tr>\n",
       "  </tbody>\n",
       "</table>\n",
       "</div>"
      ],
      "text/plain": [
       "   index                                           filepath     label   type\n",
       "0    785  images/0010000000/image-2021-05-06_02-51-02_16...  10000000  train\n",
       "1    726  images/0000000100/image-2021-05-06_11-58-58_16...       100  train\n",
       "2    261  images/0000000001/image-2021-05-06_03-14-41_16...         1  train\n",
       "3    620  images/0000000001/image-2021-05-06_11-53-37_16...         1  train\n",
       "4    737  images/0000000000/image-2021-05-06_12-03-06_16...         0  train"
      ]
     },
     "execution_count": 10,
     "metadata": {},
     "output_type": "execute_result"
    }
   ],
   "source": [
    "image_data.head()"
   ]
  },
  {
   "cell_type": "code",
   "execution_count": 11,
   "id": "34c96714",
   "metadata": {},
   "outputs": [
    {
     "data": {
      "text/html": [
       "<div>\n",
       "<style scoped>\n",
       "    .dataframe tbody tr th:only-of-type {\n",
       "        vertical-align: middle;\n",
       "    }\n",
       "\n",
       "    .dataframe tbody tr th {\n",
       "        vertical-align: top;\n",
       "    }\n",
       "\n",
       "    .dataframe thead th {\n",
       "        text-align: right;\n",
       "    }\n",
       "</style>\n",
       "<table border=\"1\" class=\"dataframe\">\n",
       "  <thead>\n",
       "    <tr style=\"text-align: right;\">\n",
       "      <th></th>\n",
       "      <th>index</th>\n",
       "      <th>filepath</th>\n",
       "      <th>label</th>\n",
       "      <th>type</th>\n",
       "    </tr>\n",
       "  </thead>\n",
       "  <tbody>\n",
       "    <tr>\n",
       "      <th>0</th>\n",
       "      <td>785</td>\n",
       "      <td>images/0010000000/image-2021-05-06_02-51-02_16...</td>\n",
       "      <td>10000000</td>\n",
       "      <td>train</td>\n",
       "    </tr>\n",
       "    <tr>\n",
       "      <th>1</th>\n",
       "      <td>726</td>\n",
       "      <td>images/0000000100/image-2021-05-06_11-58-58_16...</td>\n",
       "      <td>100</td>\n",
       "      <td>train</td>\n",
       "    </tr>\n",
       "    <tr>\n",
       "      <th>2</th>\n",
       "      <td>261</td>\n",
       "      <td>images/0000000001/image-2021-05-06_03-14-41_16...</td>\n",
       "      <td>1</td>\n",
       "      <td>train</td>\n",
       "    </tr>\n",
       "    <tr>\n",
       "      <th>3</th>\n",
       "      <td>620</td>\n",
       "      <td>images/0000000001/image-2021-05-06_11-53-37_16...</td>\n",
       "      <td>1</td>\n",
       "      <td>train</td>\n",
       "    </tr>\n",
       "    <tr>\n",
       "      <th>4</th>\n",
       "      <td>737</td>\n",
       "      <td>images/0000000000/image-2021-05-06_12-03-06_16...</td>\n",
       "      <td>0</td>\n",
       "      <td>train</td>\n",
       "    </tr>\n",
       "  </tbody>\n",
       "</table>\n",
       "</div>"
      ],
      "text/plain": [
       "   index                                           filepath     label   type\n",
       "0    785  images/0010000000/image-2021-05-06_02-51-02_16...  10000000  train\n",
       "1    726  images/0000000100/image-2021-05-06_11-58-58_16...       100  train\n",
       "2    261  images/0000000001/image-2021-05-06_03-14-41_16...         1  train\n",
       "3    620  images/0000000001/image-2021-05-06_11-53-37_16...         1  train\n",
       "4    737  images/0000000000/image-2021-05-06_12-03-06_16...         0  train"
      ]
     },
     "execution_count": 11,
     "metadata": {},
     "output_type": "execute_result"
    }
   ],
   "source": [
    "image_data.head()"
   ]
  },
  {
   "cell_type": "code",
   "execution_count": 12,
   "id": "03c2d1cc",
   "metadata": {},
   "outputs": [
    {
     "data": {
      "text/html": [
       "<div>\n",
       "<style scoped>\n",
       "    .dataframe tbody tr th:only-of-type {\n",
       "        vertical-align: middle;\n",
       "    }\n",
       "\n",
       "    .dataframe tbody tr th {\n",
       "        vertical-align: top;\n",
       "    }\n",
       "\n",
       "    .dataframe thead th {\n",
       "        text-align: right;\n",
       "    }\n",
       "</style>\n",
       "<table border=\"1\" class=\"dataframe\">\n",
       "  <thead>\n",
       "    <tr style=\"text-align: right;\">\n",
       "      <th></th>\n",
       "      <th>index</th>\n",
       "      <th>filepath</th>\n",
       "      <th>label</th>\n",
       "      <th>type</th>\n",
       "    </tr>\n",
       "  </thead>\n",
       "  <tbody>\n",
       "    <tr>\n",
       "      <th>0</th>\n",
       "      <td>785</td>\n",
       "      <td>images/0010000000/image-2021-05-06_02-51-02_16...</td>\n",
       "      <td>10000000</td>\n",
       "      <td>train</td>\n",
       "    </tr>\n",
       "    <tr>\n",
       "      <th>1</th>\n",
       "      <td>726</td>\n",
       "      <td>images/0000000100/image-2021-05-06_11-58-58_16...</td>\n",
       "      <td>100</td>\n",
       "      <td>train</td>\n",
       "    </tr>\n",
       "    <tr>\n",
       "      <th>2</th>\n",
       "      <td>261</td>\n",
       "      <td>images/0000000001/image-2021-05-06_03-14-41_16...</td>\n",
       "      <td>1</td>\n",
       "      <td>train</td>\n",
       "    </tr>\n",
       "    <tr>\n",
       "      <th>3</th>\n",
       "      <td>620</td>\n",
       "      <td>images/0000000001/image-2021-05-06_11-53-37_16...</td>\n",
       "      <td>1</td>\n",
       "      <td>train</td>\n",
       "    </tr>\n",
       "    <tr>\n",
       "      <th>4</th>\n",
       "      <td>737</td>\n",
       "      <td>images/0000000000/image-2021-05-06_12-03-06_16...</td>\n",
       "      <td>0</td>\n",
       "      <td>train</td>\n",
       "    </tr>\n",
       "  </tbody>\n",
       "</table>\n",
       "</div>"
      ],
      "text/plain": [
       "   index                                           filepath     label   type\n",
       "0    785  images/0010000000/image-2021-05-06_02-51-02_16...  10000000  train\n",
       "1    726  images/0000000100/image-2021-05-06_11-58-58_16...       100  train\n",
       "2    261  images/0000000001/image-2021-05-06_03-14-41_16...         1  train\n",
       "3    620  images/0000000001/image-2021-05-06_11-53-37_16...         1  train\n",
       "4    737  images/0000000000/image-2021-05-06_12-03-06_16...         0  train"
      ]
     },
     "execution_count": 12,
     "metadata": {},
     "output_type": "execute_result"
    }
   ],
   "source": [
    "image_data.head()"
   ]
  },
  {
   "cell_type": "code",
   "execution_count": 13,
   "id": "276d5507",
   "metadata": {},
   "outputs": [],
   "source": [
    "labels = image_data[\"label\"]"
   ]
  },
  {
   "cell_type": "code",
   "execution_count": 14,
   "id": "80531022",
   "metadata": {},
   "outputs": [
    {
     "data": {
      "text/plain": [
       "0    10000000\n",
       "1         100\n",
       "2           1\n",
       "3           1\n",
       "4           0\n",
       "Name: label, dtype: int64"
      ]
     },
     "execution_count": 14,
     "metadata": {},
     "output_type": "execute_result"
    }
   ],
   "source": [
    "labels.head()"
   ]
  },
  {
   "cell_type": "code",
   "execution_count": 15,
   "id": "dac95be3",
   "metadata": {},
   "outputs": [],
   "source": [
    "filepath = image_data[\"filepath\"]"
   ]
  },
  {
   "cell_type": "code",
   "execution_count": 16,
   "id": "080f5891",
   "metadata": {},
   "outputs": [
    {
     "data": {
      "text/plain": [
       "0    images/0010000000/image-2021-05-06_02-51-02_16...\n",
       "1    images/0000000100/image-2021-05-06_11-58-58_16...\n",
       "2    images/0000000001/image-2021-05-06_03-14-41_16...\n",
       "3    images/0000000001/image-2021-05-06_11-53-37_16...\n",
       "4    images/0000000000/image-2021-05-06_12-03-06_16...\n",
       "Name: filepath, dtype: object"
      ]
     },
     "execution_count": 16,
     "metadata": {},
     "output_type": "execute_result"
    }
   ],
   "source": [
    "filepath.head()"
   ]
  },
  {
   "cell_type": "markdown",
   "id": "70f83283",
   "metadata": {},
   "source": [
    "LOADING THE DATA FROM CSV AND TEXT FILES"
   ]
  },
  {
   "cell_type": "code",
   "execution_count": 17,
   "id": "422fb0ae",
   "metadata": {},
   "outputs": [
    {
     "name": "stdout",
     "output_type": "stream",
     "text": [
      "[[0.30346028 0.15948293 0.         ... 0.12524595 0.25748246 0.29519896]\n",
      " [0.30946503 0.17313736 0.         ... 0.         0.0051749  0.02276182]\n",
      " [0.23542511 0.07095934 0.01789799 ... 0.08694436 0.01556499 0.33173583]\n",
      " ...\n",
      " [0.11950011 0.01052549 0.02519937 ... 0.04093295 0.09136424 0.27559997]\n",
      " [0.03613472 0.02182281 0.01063083 ... 0.01606922 0.03540979 0.33080187]\n",
      " [0.33017644 0.07390193 0.1140622  ... 0.00145886 0.00188124 0.        ]]\n"
     ]
    }
   ],
   "source": [
    "feature_matrix = loadtxt('feature_matrix.csv', delimiter=',')\n",
    "print(feature_matrix)"
   ]
  },
  {
   "cell_type": "code",
   "execution_count": 18,
   "id": "2ae5616a",
   "metadata": {},
   "outputs": [
    {
     "name": "stdout",
     "output_type": "stream",
     "text": [
      "10520\n",
      "['0000000001' '0000000001' '0000000001' ... '0000000010' '0000000010'\n",
      " '0000000010']\n"
     ]
    }
   ],
   "source": [
    "labels = np.loadtxt(\"labels.txt\", dtype=str)\n",
    "print(len(labels))\n",
    "print(labels)"
   ]
  },
  {
   "cell_type": "markdown",
   "id": "d949a4a4",
   "metadata": {},
   "source": [
    "PCA: principal component analysis"
   ]
  },
  {
   "cell_type": "code",
   "execution_count": 19,
   "id": "d59e0a52",
   "metadata": {
    "scrolled": true
   },
   "outputs": [
    {
     "name": "stdout",
     "output_type": "stream",
     "text": [
      "The shape of the PCA matrix is:  (10520, 3780)\n"
     ]
    }
   ],
   "source": [
    "ss = StandardScaler()\n",
    "standardized_features = ss.fit_transform(feature_matrix)\n",
    "pca = PCA(n_components=500)\n",
    "pca = ss.fit_transform(standardized_features)\n",
    "print('The shape of the PCA matrix is: ', pca.shape)"
   ]
  },
  {
   "cell_type": "code",
   "execution_count": 20,
   "id": "a07d47ac",
   "metadata": {},
   "outputs": [
    {
     "data": {
      "text/plain": [
       "0001000000    699\n",
       "0000100000    693\n",
       "0000000010    693\n",
       "0000000100    682\n",
       "0000000001    676\n",
       "0010000000    675\n",
       "0000001000    655\n",
       "0000010000    652\n",
       "1000000000    650\n",
       "0100000000    646\n",
       "0000000000    643\n",
       "dtype: int64"
      ]
     },
     "execution_count": 20,
     "metadata": {},
     "output_type": "execute_result"
    }
   ],
   "source": [
    "X = pd.DataFrame(pca)\n",
    "y = pd.Series(labels)\n",
    "X_train, X_test, y_train, y_test = train_test_split(X,\n",
    "                                                    y,\n",
    "                                                    test_size=.3,\n",
    "                                                    random_state=1234123)\n",
    "\n",
    "pd.Series(y_train).value_counts()"
   ]
  },
  {
   "cell_type": "code",
   "execution_count": 22,
   "id": "becdc455",
   "metadata": {},
   "outputs": [
    {
     "name": "stdout",
     "output_type": "stream",
     "text": [
      "              precision    recall  f1-score   support\n",
      "\n",
      "  0000000000       0.46      0.51      0.48       317\n",
      "  0000000001       0.47      0.67      0.55       284\n",
      "  0000000010       0.47      0.52      0.49       267\n",
      "  0000000100       0.74      0.63      0.68       278\n",
      "  0000001000       0.83      0.64      0.72       305\n",
      "  0000010000       0.71      0.56      0.62       268\n",
      "  0000100000       0.47      0.66      0.55       267\n",
      "  0001000000       0.38      0.57      0.46       261\n",
      "  0010000000       0.79      0.42      0.55       285\n",
      "  0100000000       0.65      0.52      0.58       314\n",
      "  1000000000       0.64      0.54      0.58       310\n",
      "\n",
      "    accuracy                           0.56      3156\n",
      "   macro avg       0.60      0.57      0.57      3156\n",
      "weighted avg       0.60      0.56      0.57      3156\n",
      "\n"
     ]
    }
   ],
   "source": [
    "from sklearn.metrics import classification_report, confusion_matrix\n",
    "\n",
    "model = SVC()\n",
    "model.fit(X_train, y_train)\n",
    "  \n",
    "predictions = model.predict(X_test)\n",
    "print(classification_report(y_test, predictions))"
   ]
  },
  {
   "cell_type": "code",
   "execution_count": 24,
   "id": "d9607ca7",
   "metadata": {},
   "outputs": [
    {
     "name": "stdout",
     "output_type": "stream",
     "text": [
      "Fitting 5 folds for each of 25 candidates, totalling 125 fits\n",
      "[CV 1/5] END .....C=0.1, gamma=1, kernel=linear;, score=0.803 total time=  40.9s\n",
      "[CV 2/5] END .....C=0.1, gamma=1, kernel=linear;, score=0.806 total time=  38.0s\n",
      "[CV 3/5] END .....C=0.1, gamma=1, kernel=linear;, score=0.821 total time=  37.5s\n",
      "[CV 4/5] END .....C=0.1, gamma=1, kernel=linear;, score=0.798 total time=  41.2s\n",
      "[CV 5/5] END .....C=0.1, gamma=1, kernel=linear;, score=0.813 total time=  38.3s\n",
      "[CV 1/5] END ...C=0.1, gamma=0.1, kernel=linear;, score=0.803 total time=  39.0s\n",
      "[CV 2/5] END ...C=0.1, gamma=0.1, kernel=linear;, score=0.806 total time=  38.0s\n",
      "[CV 3/5] END ...C=0.1, gamma=0.1, kernel=linear;, score=0.821 total time=  36.0s\n",
      "[CV 4/5] END ...C=0.1, gamma=0.1, kernel=linear;, score=0.798 total time=  42.4s\n",
      "[CV 5/5] END ...C=0.1, gamma=0.1, kernel=linear;, score=0.813 total time=  36.5s\n",
      "[CV 1/5] END ..C=0.1, gamma=0.01, kernel=linear;, score=0.803 total time=  36.8s\n",
      "[CV 2/5] END ..C=0.1, gamma=0.01, kernel=linear;, score=0.806 total time=  36.6s\n",
      "[CV 3/5] END ..C=0.1, gamma=0.01, kernel=linear;, score=0.821 total time=  37.6s\n",
      "[CV 4/5] END ..C=0.1, gamma=0.01, kernel=linear;, score=0.798 total time=  38.9s\n",
      "[CV 5/5] END ..C=0.1, gamma=0.01, kernel=linear;, score=0.813 total time=  37.5s\n",
      "[CV 1/5] END .C=0.1, gamma=0.001, kernel=linear;, score=0.803 total time=  37.4s\n",
      "[CV 2/5] END .C=0.1, gamma=0.001, kernel=linear;, score=0.806 total time=  35.8s\n",
      "[CV 3/5] END .C=0.1, gamma=0.001, kernel=linear;, score=0.821 total time=  36.0s\n",
      "[CV 4/5] END .C=0.1, gamma=0.001, kernel=linear;, score=0.798 total time=  37.4s\n",
      "[CV 5/5] END .C=0.1, gamma=0.001, kernel=linear;, score=0.813 total time=  40.2s\n",
      "[CV 1/5] END C=0.1, gamma=0.0001, kernel=linear;, score=0.803 total time=  36.4s\n",
      "[CV 2/5] END C=0.1, gamma=0.0001, kernel=linear;, score=0.806 total time=  38.1s\n",
      "[CV 3/5] END C=0.1, gamma=0.0001, kernel=linear;, score=0.821 total time=  36.8s\n",
      "[CV 4/5] END C=0.1, gamma=0.0001, kernel=linear;, score=0.798 total time=  37.6s\n",
      "[CV 5/5] END C=0.1, gamma=0.0001, kernel=linear;, score=0.813 total time=  41.1s\n",
      "[CV 1/5] END .......C=1, gamma=1, kernel=linear;, score=0.803 total time=  37.9s\n",
      "[CV 2/5] END .......C=1, gamma=1, kernel=linear;, score=0.806 total time=  37.6s\n",
      "[CV 3/5] END .......C=1, gamma=1, kernel=linear;, score=0.821 total time=  41.9s\n",
      "[CV 4/5] END .......C=1, gamma=1, kernel=linear;, score=0.798 total time=  38.0s\n",
      "[CV 5/5] END .......C=1, gamma=1, kernel=linear;, score=0.813 total time=  43.5s\n",
      "[CV 1/5] END .....C=1, gamma=0.1, kernel=linear;, score=0.803 total time=  38.5s\n",
      "[CV 2/5] END .....C=1, gamma=0.1, kernel=linear;, score=0.806 total time=  37.9s\n",
      "[CV 3/5] END .....C=1, gamma=0.1, kernel=linear;, score=0.821 total time=  39.0s\n",
      "[CV 4/5] END .....C=1, gamma=0.1, kernel=linear;, score=0.798 total time=  38.0s\n",
      "[CV 5/5] END .....C=1, gamma=0.1, kernel=linear;, score=0.813 total time=  37.7s\n",
      "[CV 1/5] END ....C=1, gamma=0.01, kernel=linear;, score=0.803 total time=  36.8s\n",
      "[CV 2/5] END ....C=1, gamma=0.01, kernel=linear;, score=0.806 total time=  37.3s\n",
      "[CV 3/5] END ....C=1, gamma=0.01, kernel=linear;, score=0.821 total time=  40.8s\n",
      "[CV 4/5] END ....C=1, gamma=0.01, kernel=linear;, score=0.798 total time=  39.8s\n",
      "[CV 5/5] END ....C=1, gamma=0.01, kernel=linear;, score=0.813 total time=  39.8s\n",
      "[CV 1/5] END ...C=1, gamma=0.001, kernel=linear;, score=0.803 total time=  37.0s\n",
      "[CV 2/5] END ...C=1, gamma=0.001, kernel=linear;, score=0.806 total time=  36.0s\n",
      "[CV 3/5] END ...C=1, gamma=0.001, kernel=linear;, score=0.821 total time=  37.8s\n",
      "[CV 4/5] END ...C=1, gamma=0.001, kernel=linear;, score=0.798 total time=  36.6s\n",
      "[CV 5/5] END ...C=1, gamma=0.001, kernel=linear;, score=0.813 total time=  37.8s\n",
      "[CV 1/5] END ..C=1, gamma=0.0001, kernel=linear;, score=0.803 total time=  38.7s\n",
      "[CV 2/5] END ..C=1, gamma=0.0001, kernel=linear;, score=0.806 total time=  38.0s\n",
      "[CV 3/5] END ..C=1, gamma=0.0001, kernel=linear;, score=0.821 total time=  36.4s\n",
      "[CV 4/5] END ..C=1, gamma=0.0001, kernel=linear;, score=0.798 total time=  36.4s\n",
      "[CV 5/5] END ..C=1, gamma=0.0001, kernel=linear;, score=0.813 total time=  39.7s\n",
      "[CV 1/5] END ......C=10, gamma=1, kernel=linear;, score=0.803 total time=  37.0s\n",
      "[CV 2/5] END ......C=10, gamma=1, kernel=linear;, score=0.806 total time=  37.4s\n",
      "[CV 3/5] END ......C=10, gamma=1, kernel=linear;, score=0.821 total time=  36.6s\n",
      "[CV 4/5] END ......C=10, gamma=1, kernel=linear;, score=0.798 total time=  35.4s\n",
      "[CV 5/5] END ......C=10, gamma=1, kernel=linear;, score=0.813 total time=  36.8s\n",
      "[CV 1/5] END ....C=10, gamma=0.1, kernel=linear;, score=0.803 total time=  35.4s\n",
      "[CV 2/5] END ....C=10, gamma=0.1, kernel=linear;, score=0.806 total time=  34.8s\n",
      "[CV 3/5] END ....C=10, gamma=0.1, kernel=linear;, score=0.821 total time=  35.0s\n",
      "[CV 4/5] END ....C=10, gamma=0.1, kernel=linear;, score=0.798 total time=  35.3s\n",
      "[CV 5/5] END ....C=10, gamma=0.1, kernel=linear;, score=0.813 total time=  35.3s\n",
      "[CV 1/5] END ...C=10, gamma=0.01, kernel=linear;, score=0.803 total time=  37.3s\n",
      "[CV 2/5] END ...C=10, gamma=0.01, kernel=linear;, score=0.806 total time=  36.0s\n",
      "[CV 3/5] END ...C=10, gamma=0.01, kernel=linear;, score=0.821 total time=  35.2s\n",
      "[CV 4/5] END ...C=10, gamma=0.01, kernel=linear;, score=0.798 total time=  36.1s\n",
      "[CV 5/5] END ...C=10, gamma=0.01, kernel=linear;, score=0.813 total time=  36.6s\n",
      "[CV 1/5] END ..C=10, gamma=0.001, kernel=linear;, score=0.803 total time=  36.1s\n",
      "[CV 2/5] END ..C=10, gamma=0.001, kernel=linear;, score=0.806 total time=  35.8s\n",
      "[CV 3/5] END ..C=10, gamma=0.001, kernel=linear;, score=0.821 total time=  36.2s\n",
      "[CV 4/5] END ..C=10, gamma=0.001, kernel=linear;, score=0.798 total time=  37.4s\n",
      "[CV 5/5] END ..C=10, gamma=0.001, kernel=linear;, score=0.813 total time=  37.2s\n",
      "[CV 1/5] END .C=10, gamma=0.0001, kernel=linear;, score=0.803 total time=  36.5s\n",
      "[CV 2/5] END .C=10, gamma=0.0001, kernel=linear;, score=0.806 total time=  40.6s\n",
      "[CV 3/5] END .C=10, gamma=0.0001, kernel=linear;, score=0.821 total time=  35.5s\n",
      "[CV 4/5] END .C=10, gamma=0.0001, kernel=linear;, score=0.798 total time=  41.1s\n",
      "[CV 5/5] END .C=10, gamma=0.0001, kernel=linear;, score=0.813 total time=  36.7s\n",
      "[CV 1/5] END .....C=100, gamma=1, kernel=linear;, score=0.803 total time=  36.3s\n",
      "[CV 2/5] END .....C=100, gamma=1, kernel=linear;, score=0.806 total time=  35.3s\n",
      "[CV 3/5] END .....C=100, gamma=1, kernel=linear;, score=0.821 total time=  35.6s\n",
      "[CV 4/5] END .....C=100, gamma=1, kernel=linear;, score=0.798 total time=  36.4s\n",
      "[CV 5/5] END .....C=100, gamma=1, kernel=linear;, score=0.813 total time=  36.1s\n",
      "[CV 1/5] END ...C=100, gamma=0.1, kernel=linear;, score=0.803 total time=  36.8s\n",
      "[CV 2/5] END ...C=100, gamma=0.1, kernel=linear;, score=0.806 total time=  36.3s\n",
      "[CV 3/5] END ...C=100, gamma=0.1, kernel=linear;, score=0.821 total time=  46.9s\n",
      "[CV 4/5] END ...C=100, gamma=0.1, kernel=linear;, score=0.798 total time=  38.3s\n",
      "[CV 5/5] END ...C=100, gamma=0.1, kernel=linear;, score=0.813 total time=  37.1s\n",
      "[CV 1/5] END ..C=100, gamma=0.01, kernel=linear;, score=0.803 total time=  42.7s\n",
      "[CV 2/5] END ..C=100, gamma=0.01, kernel=linear;, score=0.806 total time=  44.6s\n",
      "[CV 3/5] END ..C=100, gamma=0.01, kernel=linear;, score=0.821 total time=  37.1s\n",
      "[CV 4/5] END ..C=100, gamma=0.01, kernel=linear;, score=0.798 total time=  37.7s\n",
      "[CV 5/5] END ..C=100, gamma=0.01, kernel=linear;, score=0.813 total time=  39.6s\n",
      "[CV 1/5] END .C=100, gamma=0.001, kernel=linear;, score=0.803 total time=  36.1s\n",
      "[CV 2/5] END .C=100, gamma=0.001, kernel=linear;, score=0.806 total time=  37.3s\n",
      "[CV 3/5] END .C=100, gamma=0.001, kernel=linear;, score=0.821 total time=  36.3s\n",
      "[CV 4/5] END .C=100, gamma=0.001, kernel=linear;, score=0.798 total time=  37.1s\n",
      "[CV 5/5] END .C=100, gamma=0.001, kernel=linear;, score=0.813 total time=  36.6s\n",
      "[CV 1/5] END C=100, gamma=0.0001, kernel=linear;, score=0.803 total time=  35.8s\n",
      "[CV 2/5] END C=100, gamma=0.0001, kernel=linear;, score=0.806 total time=  36.2s\n",
      "[CV 3/5] END C=100, gamma=0.0001, kernel=linear;, score=0.821 total time=  41.1s\n",
      "[CV 4/5] END C=100, gamma=0.0001, kernel=linear;, score=0.798 total time=  37.5s\n",
      "[CV 5/5] END C=100, gamma=0.0001, kernel=linear;, score=0.813 total time=  38.4s\n",
      "[CV 1/5] END ....C=1000, gamma=1, kernel=linear;, score=0.803 total time=  36.4s\n",
      "[CV 2/5] END ....C=1000, gamma=1, kernel=linear;, score=0.806 total time=  36.4s\n",
      "[CV 3/5] END ....C=1000, gamma=1, kernel=linear;, score=0.821 total time=  39.2s\n",
      "[CV 4/5] END ....C=1000, gamma=1, kernel=linear;, score=0.798 total time=  36.4s\n",
      "[CV 5/5] END ....C=1000, gamma=1, kernel=linear;, score=0.813 total time=  36.5s\n",
      "[CV 1/5] END ..C=1000, gamma=0.1, kernel=linear;, score=0.803 total time=  36.6s\n",
      "[CV 2/5] END ..C=1000, gamma=0.1, kernel=linear;, score=0.806 total time=  38.2s\n",
      "[CV 3/5] END ..C=1000, gamma=0.1, kernel=linear;, score=0.821 total time=  36.5s\n",
      "[CV 4/5] END ..C=1000, gamma=0.1, kernel=linear;, score=0.798 total time=  39.0s\n",
      "[CV 5/5] END ..C=1000, gamma=0.1, kernel=linear;, score=0.813 total time=  36.6s\n",
      "[CV 1/5] END .C=1000, gamma=0.01, kernel=linear;, score=0.803 total time=  39.0s\n",
      "[CV 2/5] END .C=1000, gamma=0.01, kernel=linear;, score=0.806 total time=  43.8s\n",
      "[CV 3/5] END .C=1000, gamma=0.01, kernel=linear;, score=0.821 total time=  38.5s\n",
      "[CV 4/5] END .C=1000, gamma=0.01, kernel=linear;, score=0.798 total time=  36.5s\n",
      "[CV 5/5] END .C=1000, gamma=0.01, kernel=linear;, score=0.813 total time=  36.5s\n",
      "[CV 1/5] END C=1000, gamma=0.001, kernel=linear;, score=0.803 total time=  36.0s\n",
      "[CV 2/5] END C=1000, gamma=0.001, kernel=linear;, score=0.806 total time=  39.2s\n",
      "[CV 3/5] END C=1000, gamma=0.001, kernel=linear;, score=0.821 total time=  37.3s\n",
      "[CV 4/5] END C=1000, gamma=0.001, kernel=linear;, score=0.798 total time=  37.7s\n",
      "[CV 5/5] END C=1000, gamma=0.001, kernel=linear;, score=0.813 total time=  40.7s\n",
      "[CV 1/5] END C=1000, gamma=0.0001, kernel=linear;, score=0.803 total time=  41.5s\n",
      "[CV 2/5] END C=1000, gamma=0.0001, kernel=linear;, score=0.806 total time=  37.6s\n",
      "[CV 3/5] END C=1000, gamma=0.0001, kernel=linear;, score=0.821 total time=  41.7s\n",
      "[CV 4/5] END C=1000, gamma=0.0001, kernel=linear;, score=0.798 total time=  40.7s\n",
      "[CV 5/5] END C=1000, gamma=0.0001, kernel=linear;, score=0.813 total time=  36.3s\n"
     ]
    },
    {
     "data": {
      "text/plain": [
       "GridSearchCV(estimator=SVC(),\n",
       "             param_grid={'C': [0.1, 1, 10, 100, 1000],\n",
       "                         'gamma': [1, 0.1, 0.01, 0.001, 0.0001],\n",
       "                         'kernel': ['linear']},\n",
       "             verbose=3)"
      ]
     },
     "execution_count": 24,
     "metadata": {},
     "output_type": "execute_result"
    }
   ],
   "source": [
    "from sklearn.model_selection import GridSearchCV\n",
    "\n",
    "param_grid = {'C': [0.1, 1, 10, 100, 1000], \n",
    "              'gamma': [1, 0.1, 0.01, 0.001, 0.0001],\n",
    "              'kernel': ['linear']} \n",
    "  \n",
    "grid = GridSearchCV(SVC(), param_grid, refit = True, verbose = 3)\n",
    "  \n",
    "grid.fit(X_train, y_train)"
   ]
  },
  {
   "cell_type": "markdown",
   "id": "3903a7f1",
   "metadata": {},
   "source": [
    "TRAINING WITH THE RBF KERNEL"
   ]
  },
  {
   "cell_type": "code",
   "execution_count": 132,
   "id": "3857ff37",
   "metadata": {},
   "outputs": [
    {
     "data": {
      "text/plain": [
       "SVC(probability=True, random_state=42)"
      ]
     },
     "execution_count": 132,
     "metadata": {},
     "output_type": "execute_result"
    }
   ],
   "source": [
    "svm = SVC(kernel='rbf', probability=True, random_state=42)\n",
    "svm.fit(X_train, y_train)"
   ]
  },
  {
   "cell_type": "code",
   "execution_count": 136,
   "id": "4407a15e",
   "metadata": {},
   "outputs": [
    {
     "name": "stdout",
     "output_type": "stream",
     "text": [
      "The accuracy of the SVM model is:  0.5649556400506971\n"
     ]
    }
   ],
   "source": [
    "y_pred = svm.predict(X_test)\n",
    "accuracy = accuracy_score(y_test, y_pred)\n",
    "print('The accuracy of the SVM model is: ', accuracy)"
   ]
  },
  {
   "cell_type": "markdown",
   "id": "ce93d421",
   "metadata": {},
   "source": [
    "TRAINING WITH THE LINEAR KERNEL"
   ]
  },
  {
   "cell_type": "code",
   "execution_count": 25,
   "id": "ba18fe32",
   "metadata": {},
   "outputs": [
    {
     "data": {
      "text/plain": [
       "SVC(gamma=0.0001, kernel='linear', probability=True, random_state=42)"
      ]
     },
     "execution_count": 25,
     "metadata": {},
     "output_type": "execute_result"
    }
   ],
   "source": [
    "svm = SVC(kernel='linear', gamma = 0.0001, probability=True, random_state=42)\n",
    "svm.fit(X_train, y_train)"
   ]
  },
  {
   "cell_type": "code",
   "execution_count": 26,
   "id": "0385457f",
   "metadata": {},
   "outputs": [
    {
     "name": "stdout",
     "output_type": "stream",
     "text": [
      "The accuracy of the SVM model is:  0.8222433460076045\n"
     ]
    }
   ],
   "source": [
    "y_pred = svm.predict(X_test)\n",
    "accuracy = accuracy_score(y_test, y_pred)\n",
    "print('The accuracy of the SVM model is: ', accuracy)"
   ]
  },
  {
   "cell_type": "markdown",
   "id": "a6730b49",
   "metadata": {},
   "source": [
    "TRAINING WITH THE POLY KERNEL"
   ]
  },
  {
   "cell_type": "code",
   "execution_count": 139,
   "id": "9443f0a0",
   "metadata": {},
   "outputs": [
    {
     "name": "stdout",
     "output_type": "stream",
     "text": [
      "The accuracy of the SVM model is:  0.6486058301647655\n"
     ]
    }
   ],
   "source": [
    "svm = SVC(kernel='poly', probability=True, random_state=42)\n",
    "svm.fit(X_train, y_train)\n",
    "y_pred = svm.predict(X_test)\n",
    "accuracy = accuracy_score(y_test, y_pred)\n",
    "print('The accuracy of the SVM model is: ', accuracy)"
   ]
  },
  {
   "cell_type": "markdown",
   "id": "337dda35",
   "metadata": {},
   "source": [
    "TRAINING WITH THE SIGMOID KERNEL"
   ]
  },
  {
   "cell_type": "code",
   "execution_count": 140,
   "id": "dd419ba1",
   "metadata": {},
   "outputs": [
    {
     "name": "stdout",
     "output_type": "stream",
     "text": [
      "The accuracy of the SVM model is:  0.25190114068441066\n"
     ]
    }
   ],
   "source": [
    "svm = SVC(kernel='sigmoid', probability=True, random_state=42)\n",
    "svm.fit(X_train, y_train)\n",
    "y_pred = svm.predict(X_test)\n",
    "accuracy = accuracy_score(y_test, y_pred)\n",
    "print('The accuracy of the SVM model is: ', accuracy)"
   ]
  },
  {
   "cell_type": "code",
   "execution_count": null,
   "id": "8dfb1fd4",
   "metadata": {},
   "outputs": [],
   "source": []
  }
 ],
 "metadata": {
  "kernelspec": {
   "display_name": "Python 3",
   "language": "python",
   "name": "python3"
  },
  "language_info": {
   "codemirror_mode": {
    "name": "ipython",
    "version": 3
   },
   "file_extension": ".py",
   "mimetype": "text/x-python",
   "name": "python",
   "nbconvert_exporter": "python",
   "pygments_lexer": "ipython3",
   "version": "3.9.4"
  }
 },
 "nbformat": 4,
 "nbformat_minor": 5
}
