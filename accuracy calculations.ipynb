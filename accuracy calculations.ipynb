{
 "cells": [
  {
   "cell_type": "code",
   "execution_count": 1,
   "id": "73a7724c",
   "metadata": {},
   "outputs": [],
   "source": [
    "import numpy as np"
   ]
  },
  {
   "cell_type": "code",
   "execution_count": 52,
   "id": "b5d19a39",
   "metadata": {},
   "outputs": [],
   "source": [
    "matrix = np.array([[178.,   0.,   0.,   0.,   0.,   0.,   0.,   0.,   8.,   6.,   0.],\n",
    "        [  3., 182.,   0.,   0.,   0.,   0.,   0.,   0.,   7.,   0.,   0.],\n",
    "        [  4.,   0., 185.,   0.,   0.,   0.,   0.,   0.,   3.,   0.,   0.],\n",
    "[  3.,   0.,   0., 182.,   0.,   0.,   0.,   0.,   7.,   0.,   0.],\n",
    "[  0.,   0.,   0.,   0., 184.,   0.,   0.,   0.,   8.,   0.,   0.],\n",
    "[  1.,   0.,   0.,   0.,   0., 177.,   0.,   0.,   6.,   0.,   0.],\n",
    "[  1.,   0.,   0.,   0.,   0.,  42., 147.,   0.,   2.,   0.,   0.],\n",
    "[  4.,   0.,   0.,   0.,   0.,   0.,   0., 181.,   8.,   5.,   0.],\n",
    "[  7.,   0.,   0.,   0.,   0.,   0.,   0.,   0., 182.,   3.,   0.],\n",
    "[  4.,   0.,   0.,   0.,   0.,   0.,   0.,   0.,   5., 183.,   0.],\n",
    "[  9.,   0.,   0.,   0.,   0.,   0.,   0.,   0.,   9.,   4., 170.]])"
   ]
  },
  {
   "cell_type": "code",
   "execution_count": 53,
   "id": "35f81cf4",
   "metadata": {},
   "outputs": [
    {
     "name": "stdout",
     "output_type": "stream",
     "text": [
      "[[178.   0.   0.   0.   0.   0.   0.   0.   8.   6.   0.]\n",
      " [  3. 182.   0.   0.   0.   0.   0.   0.   7.   0.   0.]\n",
      " [  4.   0. 185.   0.   0.   0.   0.   0.   3.   0.   0.]\n",
      " [  3.   0.   0. 182.   0.   0.   0.   0.   7.   0.   0.]\n",
      " [  0.   0.   0.   0. 184.   0.   0.   0.   8.   0.   0.]\n",
      " [  1.   0.   0.   0.   0. 177.   0.   0.   6.   0.   0.]\n",
      " [  1.   0.   0.   0.   0.  42. 147.   0.   2.   0.   0.]\n",
      " [  4.   0.   0.   0.   0.   0.   0. 181.   8.   5.   0.]\n",
      " [  7.   0.   0.   0.   0.   0.   0.   0. 182.   3.   0.]\n",
      " [  4.   0.   0.   0.   0.   0.   0.   0.   5. 183.   0.]\n",
      " [  9.   0.   0.   0.   0.   0.   0.   0.   9.   4. 170.]]\n"
     ]
    }
   ],
   "source": [
    "print(matrix)"
   ]
  },
  {
   "cell_type": "code",
   "execution_count": 54,
   "id": "1061d737",
   "metadata": {},
   "outputs": [],
   "source": [
    "total = matrix.sum(axis=1)"
   ]
  },
  {
   "cell_type": "code",
   "execution_count": 55,
   "id": "aff81601",
   "metadata": {},
   "outputs": [],
   "source": [
    "total_sum = total.sum()"
   ]
  },
  {
   "cell_type": "code",
   "execution_count": 56,
   "id": "aa0cadfa",
   "metadata": {},
   "outputs": [
    {
     "name": "stdout",
     "output_type": "stream",
     "text": [
      "2110.0\n"
     ]
    }
   ],
   "source": [
    "print(total_sum)"
   ]
  },
  {
   "cell_type": "code",
   "execution_count": 57,
   "id": "2831aee2",
   "metadata": {},
   "outputs": [
    {
     "name": "stdout",
     "output_type": "stream",
     "text": [
      "1951.0\n"
     ]
    }
   ],
   "source": [
    "diagonal = np.diagonal(matrix)\n",
    "correct = diagonal.sum()\n",
    "print(correct)"
   ]
  },
  {
   "cell_type": "code",
   "execution_count": 58,
   "id": "312b98d1",
   "metadata": {},
   "outputs": [
    {
     "name": "stdout",
     "output_type": "stream",
     "text": [
      "92.46445497630333\n"
     ]
    }
   ],
   "source": [
    "accuracy = (correct)/total_sum\n",
    "print(accuracy*100)"
   ]
  },
  {
   "cell_type": "code",
   "execution_count": null,
   "id": "3fe3e1da",
   "metadata": {},
   "outputs": [],
   "source": []
  },
  {
   "cell_type": "code",
   "execution_count": null,
   "id": "429fbb3e",
   "metadata": {},
   "outputs": [],
   "source": []
  }
 ],
 "metadata": {
  "kernelspec": {
   "display_name": "Python 3",
   "language": "python",
   "name": "python3"
  },
  "language_info": {
   "codemirror_mode": {
    "name": "ipython",
    "version": 3
   },
   "file_extension": ".py",
   "mimetype": "text/x-python",
   "name": "python",
   "nbconvert_exporter": "python",
   "pygments_lexer": "ipython3",
   "version": "3.9.4"
  }
 },
 "nbformat": 4,
 "nbformat_minor": 5
}
